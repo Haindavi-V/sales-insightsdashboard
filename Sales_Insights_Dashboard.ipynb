{
 "cells": [
  {
   "cell_type": "code",
   "execution_count": null,
   "id": "81f57bc7",
   "metadata": {},
   "outputs": [],
   "source": [
    "\n",
    "import pandas as pd\n",
    "import matplotlib.pyplot as plt\n",
    "import seaborn as sns\n",
    "import plotly.express as px\n",
    "from sklearn.linear_model import LinearRegression\n",
    "from sklearn.metrics import mean_squared_error\n",
    "from datetime import datetime\n",
    "import warnings\n",
    "warnings.filterwarnings(\"ignore\")\n"
   ]
  },
  {
   "cell_type": "code",
   "execution_count": null,
   "id": "01449cb4",
   "metadata": {},
   "outputs": [],
   "source": [
    "\n",
    "from google.colab import files\n",
    "uploaded = files.upload()\n",
    "\n",
    "df = pd.read_csv(\"Superstore_Sales.csv\")\n",
    "df['Order Date'] = pd.to_datetime(df['Order Date'])\n",
    "df.head()\n"
   ]
  },
  {
   "cell_type": "code",
   "execution_count": null,
   "id": "718d487d",
   "metadata": {},
   "outputs": [],
   "source": [
    "\n",
    "print(\"Dataset Shape:\", df.shape)\n",
    "print(df.info())\n",
    "print(df.describe())\n"
   ]
  },
  {
   "cell_type": "code",
   "execution_count": null,
   "id": "bed2cafd",
   "metadata": {},
   "outputs": [],
   "source": [
    "\n",
    "df_monthly = df.resample('M', on='Order Date').sum(numeric_only=True)\n",
    "\n",
    "plt.figure(figsize=(10, 5))\n",
    "sns.lineplot(data=df_monthly, x='Order Date', y='Sales')\n",
    "plt.title(\"📈 Monthly Sales Trend\")\n",
    "plt.ylabel(\"Sales\")\n",
    "plt.xlabel(\"Month\")\n",
    "plt.xticks(rotation=45)\n",
    "plt.show()\n"
   ]
  },
  {
   "cell_type": "code",
   "execution_count": null,
   "id": "3b59471d",
   "metadata": {},
   "outputs": [],
   "source": [
    "\n",
    "plt.figure(figsize=(8,5))\n",
    "sns.barplot(data=df, x='Region', y='Sales', estimator=sum, ci=None)\n",
    "plt.title(\"Sales by Region\")\n",
    "plt.ylabel(\"Total Sales\")\n",
    "plt.xlabel(\"Region\")\n",
    "plt.show()\n"
   ]
  },
  {
   "cell_type": "code",
   "execution_count": null,
   "id": "4a5c5375",
   "metadata": {},
   "outputs": [],
   "source": [
    "\n",
    "fig = px.bar(df, x=\"Category\", y=\"Sales\", color=\"Segment\",\n",
    "             barmode=\"group\", title=\"Sales by Category and Segment\")\n",
    "fig.show()\n"
   ]
  },
  {
   "cell_type": "code",
   "execution_count": null,
   "id": "f73deef5",
   "metadata": {},
   "outputs": [],
   "source": [
    "\n",
    "plt.figure(figsize=(8, 5))\n",
    "sns.scatterplot(data=df, x='Discount', y='Profit')\n",
    "plt.title(\"📉 Discount vs Profit\")\n",
    "plt.xlabel(\"Discount\")\n",
    "plt.ylabel(\"Profit\")\n",
    "plt.show()\n"
   ]
  },
  {
   "cell_type": "code",
   "execution_count": null,
   "id": "9bd8b2c4",
   "metadata": {},
   "outputs": [],
   "source": [
    "\n",
    "df_monthly = df.resample('M', on='Order Date').sum(numeric_only=True).reset_index()\n",
    "df_monthly['TimeIndex'] = range(len(df_monthly))\n",
    "\n",
    "X = df_monthly[['TimeIndex']]\n",
    "y = df_monthly['Sales']\n",
    "\n",
    "model = LinearRegression()\n",
    "model.fit(X, y)\n",
    "\n",
    "future_index = pd.DataFrame({'TimeIndex': list(range(len(X), len(X)+6))})\n",
    "future_sales = model.predict(future_index)\n",
    "\n",
    "plt.figure(figsize=(10,5))\n",
    "plt.plot(df_monthly['TimeIndex'], y, label=\"Historical Sales\")\n",
    "plt.plot(future_index['TimeIndex'], future_sales, linestyle='--', color='red', label=\"Forecast\")\n",
    "plt.legend()\n",
    "plt.title(\"📊 Sales Forecast for Next 6 Months\")\n",
    "plt.xlabel(\"Time Index\")\n",
    "plt.ylabel(\"Sales\")\n",
    "plt.show()\n"
   ]
  },
  {
   "cell_type": "code",
   "execution_count": null,
   "id": "8e7e0064",
   "metadata": {},
   "outputs": [],
   "source": [
    "\n",
    "df_monthly.to_csv(\"Monthly_Sales_Trend.csv\", index=False)\n",
    "files.download(\"Monthly_Sales_Trend.csv\")\n"
   ]
  }
 ],
 "metadata": {},
 "nbformat": 4,
 "nbformat_minor": 5
}